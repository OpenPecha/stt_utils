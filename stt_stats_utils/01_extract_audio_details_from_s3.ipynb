{
 "cells": [
  {
   "cell_type": "code",
   "execution_count": 11,
   "metadata": {},
   "outputs": [],
   "source": [
    "def convert_to_hms(duration):\n",
    "    # Convert the float to a string with a fixed number of decimal places\n",
    "    duration_str = f\"{duration:.3f}\"\n",
    "    \n",
    "    # Split the duration into seconds and milliseconds\n",
    "    seconds, milliseconds = map(int, duration_str.split('.'))\n",
    "    \n",
    "    # Convert total time to seconds (including milliseconds as a fraction of a second)\n",
    "    total_seconds = seconds + milliseconds / 1000\n",
    "    \n",
    "    # Convert seconds to hours, minutes, and seconds\n",
    "    hours = int(total_seconds // 3600)\n",
    "    total_seconds %= 3600\n",
    "    minutes = int(total_seconds // 60)\n",
    "    seconds = total_seconds % 60\n",
    "    \n",
    "    # Format the result as hour:minute:second.millisecond\n",
    "    return f\"{hours:02}:{minutes:02}:{seconds:06.3f}\"\n"
   ]
  },
  {
   "cell_type": "code",
   "execution_count": 1,
   "metadata": {},
   "outputs": [
    {
     "name": "stdout",
     "output_type": "stream",
     "text": [
      "Total files found: 1636705\n"
     ]
    }
   ],
   "source": [
    "import boto3\n",
    "\n",
    "# Initialize S3 client\n",
    "s3 = boto3.client('s3')\n",
    "\n",
    "# S3 bucket and folder details\n",
    "bucket_name = 'monlam.ai.stt'\n",
    "folder_name = 'wav16k/'\n",
    "\n",
    "# List to store file names\n",
    "file_names = []\n",
    "\n",
    "# Traverse the S3 folder and collect all file names\n",
    "paginator = s3.get_paginator('list_objects_v2')\n",
    "for page in paginator.paginate(Bucket=bucket_name, Prefix=folder_name):\n",
    "    for obj in page.get('Contents', []):\n",
    "        key = obj['Key']\n",
    "        file_name = key.split('/')[-1]\n",
    "        if file_name:  # Ensure it's not a folder\n",
    "            file_names.append(file_name)\n",
    "\n",
    "# Optionally, save the list to a text file\n",
    "with open('s3_file_list.txt', 'w') as f:\n",
    "    for name in file_names:\n",
    "        f.write(f\"{name}\\n\")\n",
    "\n",
    "print(f\"Total files found: {len(file_names)}\")\n"
   ]
  },
  {
   "cell_type": "code",
   "execution_count": 1,
   "metadata": {},
   "outputs": [],
   "source": [
    "import pandas as pd\n",
    "import re\n",
    "from tqdm import tqdm\n",
    "\n",
    "# Input CSV file containing the list of files\n",
    "input_csv = 'wav16k.csv'  # Update with your actual file name \n",
    "output_csv = 'audio_data/audio_segments_1.csv'\n",
    "\n",
    "# Load the input CSV into a pandas DataFrame\n",
    "df = pd.read_csv(input_csv)"
   ]
  },
  {
   "cell_type": "code",
   "execution_count": 2,
   "metadata": {},
   "outputs": [
    {
     "data": {
      "text/plain": [
       "1636705"
      ]
     },
     "execution_count": 2,
     "metadata": {},
     "output_type": "execute_result"
    }
   ],
   "source": [
    "len(df)"
   ]
  },
  {
   "cell_type": "code",
   "execution_count": 3,
   "metadata": {},
   "outputs": [],
   "source": [
    "# Initialize lists to store output data\n",
    "file_names = []\n",
    "segment_audio_file_names = []\n",
    "segment_audio_durations = []\n",
    "total_audio_segment_lengths = []\n",
    "department_names = []\n",
    "\n",
    "# Initialize a dictionary to store total durations\n",
    "total_durations = {}"
   ]
  },
  {
   "cell_type": "code",
   "execution_count": 4,
   "metadata": {},
   "outputs": [],
   "source": [
    "# Regular expression pattern to parse file names \n",
    "pattern = re.compile(r\"^(STT_\\w{2})(.+?)_(\\d+)_(\\d+)_to_(\\d+)\\.wav$\")"
   ]
  },
  {
   "cell_type": "code",
   "execution_count": 5,
   "metadata": {},
   "outputs": [],
   "source": [
    "#non matching files pattern to parse file names\n",
    "#pattern = re.compile(r\"^(STT_\\w{2})(\\d{5})_(\\d+)\\.(\\d+)-(\\d+)\\.(\\d+)\\.wav$\")\n"
   ]
  },
  {
   "cell_type": "code",
   "execution_count": 11,
   "metadata": {},
   "outputs": [
    {
     "name": "stderr",
     "output_type": "stream",
     "text": [
      "Processing files: 100%|██████████| 362854/362854 [00:00<00:00, 457919.30file/s]\n"
     ]
    }
   ],
   "source": [
    "\"\"\"\n",
    "run this code to get the non matching files details\n",
    "non_matching_files = []\n",
    "\n",
    "# Process each file name\n",
    "for file_name in tqdm(df['file_name'], desc=\"Processing files\", unit=\"file\"):\n",
    "    match = pattern.match(file_name)\n",
    "    if match:\n",
    "        department_name = match.group(1)  # Department name\n",
    "        base_file_name = f\"{department_name}{match.group(2)}\"  # Base file name\n",
    "        start_ms = int(match.group(3)) * 1000 + int(match.group(4))\n",
    "        end_ms = int(match.group(5)) * 1000 + int(match.group(6))\n",
    "\n",
    "        # Calculate segment duration in seconds and milliseconds\n",
    "        segment_duration_ms = end_ms - start_ms\n",
    "        segment_duration = segment_duration_ms / 1000.0  # Convert to seconds\n",
    "\n",
    "        # Update the total duration for the file\n",
    "        if base_file_name not in total_durations:\n",
    "            total_durations[base_file_name] = 0\n",
    "        total_durations[base_file_name] += segment_duration\n",
    "\n",
    "        # Append data to the lists\n",
    "        file_names.append(base_file_name)\n",
    "        segment_audio_file_names.append(file_name)\n",
    "        segment_audio_durations.append(segment_duration)\n",
    "        total_audio_segment_lengths.append(total_durations[base_file_name])\n",
    "        department_names.append(department_name)\n",
    "    else:\n",
    "        # Add the non-matching file name to the list\n",
    "        non_matching_files.append(file_name)\n",
    "\n",
    "\"\"\""
   ]
  },
  {
   "cell_type": "code",
   "execution_count": 6,
   "metadata": {},
   "outputs": [
    {
     "name": "stderr",
     "output_type": "stream",
     "text": [
      "Processing files: 100%|██████████| 1636705/1636705 [00:02<00:00, 675310.55file/s]\n"
     ]
    }
   ],
   "source": [
    "non_matching_files = []\n",
    "\n",
    "# Process each file name\n",
    "for file_name in tqdm(df['file_name'], desc=\"Processing files\", unit=\"file\"):\n",
    "    match = pattern.match(file_name)\n",
    "    if match:\n",
    "        department_name = match.group(1)  # First five letters as department name\n",
    "        base_file_name = f\"{department_name}{match.group(2)}\"   # Base file name\n",
    "        start_ms = int(match.group(4))\n",
    "        end_ms = int(match.group(5))\n",
    "\n",
    "        # Calculate segment duration in seconds\n",
    "        segment_duration = (end_ms - start_ms) / 1000.0\n",
    "\n",
    "        # Update the total duration for the file\n",
    "        if base_file_name not in total_durations:\n",
    "            total_durations[base_file_name] = 0\n",
    "        total_durations[base_file_name] += segment_duration\n",
    "\n",
    "        # Append data to the lists\n",
    "        file_names.append(base_file_name)\n",
    "        segment_audio_file_names.append(file_name)\n",
    "        segment_audio_durations.append(segment_duration)\n",
    "        total_audio_segment_lengths.append(total_durations[base_file_name])\n",
    "        department_names.append(department_name)\n",
    "    else:\n",
    "        # Add the non-matching file name to the list\n",
    "        non_matching_files.append(file_name)\n",
    "\n"
   ]
  },
  {
   "cell_type": "code",
   "execution_count": 7,
   "metadata": {},
   "outputs": [
    {
     "name": "stdout",
     "output_type": "stream",
     "text": [
      "Non-matching file names have been saved to non_matching_files.csv 362854\n",
      "CSV file audio_segments.csv created successfully.\n"
     ]
    }
   ],
   "source": [
    "non_matching_csv = 'audio_data/non_matching_files.csv'\n",
    "# If there are non-matching files, save them to a separate CSV file\n",
    "if non_matching_files:\n",
    "    non_matching_df = pd.DataFrame(non_matching_files, columns=['file_name'])\n",
    "    non_matching_df.to_csv(non_matching_csv, index=False)\n",
    "    print(f\"Non-matching file names have been saved to {non_matching_csv}\", len(non_matching_files))\n",
    "\n",
    "print(f\"CSV file {output_csv} created successfully.\")\n"
   ]
  },
  {
   "cell_type": "code",
   "execution_count": 8,
   "metadata": {},
   "outputs": [
    {
     "name": "stdout",
     "output_type": "stream",
     "text": [
      "CSV file audio_segments.csv created successfully.\n"
     ]
    }
   ],
   "source": [
    "# Create a new DataFrame with the results\n",
    "output_df = pd.DataFrame({\n",
    "    'file_name': file_names,\n",
    "    'segment_audio_file_name': segment_audio_file_names,\n",
    "    'segment_audio_duration': segment_audio_durations,\n",
    "    'department_name': department_names\n",
    "})\n",
    "\n",
    "# Save the results to a new CSV file\n",
    "output_df.to_csv(output_csv, index=False)\n",
    "\n",
    "print(f\"CSV file {output_csv} created successfully.\")"
   ]
  },
  {
   "cell_type": "code",
   "execution_count": 9,
   "metadata": {},
   "outputs": [
    {
     "data": {
      "text/plain": [
       "1273851"
      ]
     },
     "execution_count": 9,
     "metadata": {},
     "output_type": "execute_result"
    }
   ],
   "source": [
    "len(output_df)"
   ]
  },
  {
   "cell_type": "code",
   "execution_count": 12,
   "metadata": {},
   "outputs": [
    {
     "name": "stdout",
     "output_type": "stream",
     "text": [
      "Total audio durations CSV file total_audio_durations_1.csv created successfully.\n"
     ]
    }
   ],
   "source": [
    "# Convert the dictionary to a pandas DataFrame\n",
    "df_total_durations = pd.DataFrame(list(total_durations.items()), columns=['file_name', 'total_audio_segment_length'])\n",
    "\n",
    "df_total_durations = df_total_durations.sort_values(by='file_name')\n",
    "\n",
    "df_total_durations['total_audio_segment_length'] = df_total_durations['total_audio_segment_length'].apply(convert_to_hms)\n",
    "\n",
    "# Output CSV file\n",
    "output_csv = 'audio_data/audio_durations_1.csv'\n",
    "\n",
    "# Save the DataFrame to a CSV file\n",
    "df_total_durations.to_csv(output_csv, index=False)\n",
    "\n",
    "print(f\"Total audio durations CSV file {output_csv} created successfully.\")"
   ]
  },
  {
   "cell_type": "code",
   "execution_count": 21,
   "metadata": {},
   "outputs": [],
   "source": [
    "df = pd.read_csv('total_audio_duration.csv')"
   ]
  },
  {
   "cell_type": "code",
   "execution_count": 22,
   "metadata": {},
   "outputs": [
    {
     "data": {
      "text/html": [
       "<div>\n",
       "<style scoped>\n",
       "    .dataframe tbody tr th:only-of-type {\n",
       "        vertical-align: middle;\n",
       "    }\n",
       "\n",
       "    .dataframe tbody tr th {\n",
       "        vertical-align: top;\n",
       "    }\n",
       "\n",
       "    .dataframe thead th {\n",
       "        text-align: right;\n",
       "    }\n",
       "</style>\n",
       "<table border=\"1\" class=\"dataframe\">\n",
       "  <thead>\n",
       "    <tr style=\"text-align: right;\">\n",
       "      <th></th>\n",
       "      <th>file_name</th>\n",
       "      <th>total_audio_segment_length</th>\n",
       "    </tr>\n",
       "  </thead>\n",
       "  <tbody>\n",
       "    <tr>\n",
       "      <th>0</th>\n",
       "      <td>STT_AB00001</td>\n",
       "      <td>00:05:14.681</td>\n",
       "    </tr>\n",
       "    <tr>\n",
       "      <th>1</th>\n",
       "      <td>STT_AB00002</td>\n",
       "      <td>00:03:01.387</td>\n",
       "    </tr>\n",
       "    <tr>\n",
       "      <th>2</th>\n",
       "      <td>STT_AB00003</td>\n",
       "      <td>00:09:27.663</td>\n",
       "    </tr>\n",
       "    <tr>\n",
       "      <th>3</th>\n",
       "      <td>STT_AB00004</td>\n",
       "      <td>00:02:15.507</td>\n",
       "    </tr>\n",
       "    <tr>\n",
       "      <th>4</th>\n",
       "      <td>STT_AB00005</td>\n",
       "      <td>00:10:31.105</td>\n",
       "    </tr>\n",
       "  </tbody>\n",
       "</table>\n",
       "</div>"
      ],
      "text/plain": [
       "     file_name total_audio_segment_length\n",
       "0  STT_AB00001               00:05:14.681\n",
       "1  STT_AB00002               00:03:01.387\n",
       "2  STT_AB00003               00:09:27.663\n",
       "3  STT_AB00004               00:02:15.507\n",
       "4  STT_AB00005               00:10:31.105"
      ]
     },
     "execution_count": 22,
     "metadata": {},
     "output_type": "execute_result"
    }
   ],
   "source": [
    "df.head()"
   ]
  },
  {
   "cell_type": "code",
   "execution_count": 23,
   "metadata": {},
   "outputs": [],
   "source": [
    "pattern = re.compile(r\"^(STT_\\w{2})(.+?)$\")"
   ]
  },
  {
   "cell_type": "code",
   "execution_count": 24,
   "metadata": {},
   "outputs": [],
   "source": [
    "def extract_department_name(file_name):\n",
    "    match = pattern.match(file_name)\n",
    "    if match:\n",
    "        return match.group(1)  # Return the department name (e.g., STT_CS)\n",
    "    return None"
   ]
  },
  {
   "cell_type": "code",
   "execution_count": 25,
   "metadata": {},
   "outputs": [],
   "source": [
    "df['dept'] = df['file_name'].apply(extract_department_name)"
   ]
  },
  {
   "cell_type": "code",
   "execution_count": 26,
   "metadata": {},
   "outputs": [
    {
     "data": {
      "text/html": [
       "<div>\n",
       "<style scoped>\n",
       "    .dataframe tbody tr th:only-of-type {\n",
       "        vertical-align: middle;\n",
       "    }\n",
       "\n",
       "    .dataframe tbody tr th {\n",
       "        vertical-align: top;\n",
       "    }\n",
       "\n",
       "    .dataframe thead th {\n",
       "        text-align: right;\n",
       "    }\n",
       "</style>\n",
       "<table border=\"1\" class=\"dataframe\">\n",
       "  <thead>\n",
       "    <tr style=\"text-align: right;\">\n",
       "      <th></th>\n",
       "      <th>file_name</th>\n",
       "      <th>total_audio_segment_length</th>\n",
       "      <th>dept</th>\n",
       "    </tr>\n",
       "  </thead>\n",
       "  <tbody>\n",
       "    <tr>\n",
       "      <th>0</th>\n",
       "      <td>STT_AB00001</td>\n",
       "      <td>00:05:14.681</td>\n",
       "      <td>STT_AB</td>\n",
       "    </tr>\n",
       "    <tr>\n",
       "      <th>1</th>\n",
       "      <td>STT_AB00002</td>\n",
       "      <td>00:03:01.387</td>\n",
       "      <td>STT_AB</td>\n",
       "    </tr>\n",
       "    <tr>\n",
       "      <th>2</th>\n",
       "      <td>STT_AB00003</td>\n",
       "      <td>00:09:27.663</td>\n",
       "      <td>STT_AB</td>\n",
       "    </tr>\n",
       "    <tr>\n",
       "      <th>3</th>\n",
       "      <td>STT_AB00004</td>\n",
       "      <td>00:02:15.507</td>\n",
       "      <td>STT_AB</td>\n",
       "    </tr>\n",
       "    <tr>\n",
       "      <th>4</th>\n",
       "      <td>STT_AB00005</td>\n",
       "      <td>00:10:31.105</td>\n",
       "      <td>STT_AB</td>\n",
       "    </tr>\n",
       "  </tbody>\n",
       "</table>\n",
       "</div>"
      ],
      "text/plain": [
       "     file_name total_audio_segment_length    dept\n",
       "0  STT_AB00001               00:05:14.681  STT_AB\n",
       "1  STT_AB00002               00:03:01.387  STT_AB\n",
       "2  STT_AB00003               00:09:27.663  STT_AB\n",
       "3  STT_AB00004               00:02:15.507  STT_AB\n",
       "4  STT_AB00005               00:10:31.105  STT_AB"
      ]
     },
     "execution_count": 26,
     "metadata": {},
     "output_type": "execute_result"
    }
   ],
   "source": [
    "df.head()"
   ]
  },
  {
   "cell_type": "code",
   "execution_count": 29,
   "metadata": {},
   "outputs": [
    {
     "name": "stdout",
     "output_type": "stream",
     "text": [
      "Created file: dept_files/STT_AB.csv\n",
      "Created file: dept_files/STT_CS.csv\n",
      "Created file: dept_files/STT_HS.csv\n",
      "Created file: dept_files/STT_MV.csv\n",
      "Created file: dept_files/STT_NS.csv\n",
      "Created file: dept_files/STT_NW.csv\n",
      "Created file: dept_files/STT_PC.csv\n",
      "Created file: dept_files/STT_TT.csv\n"
     ]
    }
   ],
   "source": [
    "# Group rows by department\n",
    "grouped = df.groupby('dept')\n",
    "\n",
    "# Create a CSV file for each department\n",
    "for dept_name, group in grouped:\n",
    "    # Define the file name based on the department name\n",
    "    file_name = f\"dept_files/{dept_name}.csv\"\n",
    "    # Save the group to a CSV file\n",
    "    group.to_csv(file_name, index=False)\n",
    "    print(f\"Created file: {file_name}\")"
   ]
  }
 ],
 "metadata": {
  "kernelspec": {
   "display_name": "Python 3",
   "language": "python",
   "name": "python3"
  },
  "language_info": {
   "codemirror_mode": {
    "name": "ipython",
    "version": 3
   },
   "file_extension": ".py",
   "mimetype": "text/x-python",
   "name": "python",
   "nbconvert_exporter": "python",
   "pygments_lexer": "ipython3",
   "version": "3.10.12"
  }
 },
 "nbformat": 4,
 "nbformat_minor": 2
}
