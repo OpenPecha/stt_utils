{
 "cells": [
  {
   "cell_type": "code",
   "execution_count": null,
   "metadata": {},
   "outputs": [],
   "source": [
    "import sys\n",
    "sys.path.append('../util')\n",
    "\n",
    "from util import read_spreadsheet"
   ]
  },
  {
   "cell_type": "code",
   "execution_count": null,
   "metadata": {},
   "outputs": [],
   "source": [
    "#NW DEPARTMENT\n",
    "df = read_spreadsheet(sheet_id=\"1-WuaaWKIHJfGQhDXVSwG-v2qGqxQYVqqk7lFeHyxEzk\")"
   ]
  },
  {
   "cell_type": "code",
   "execution_count": null,
   "metadata": {},
   "outputs": [],
   "source": [
    "df.columns"
   ]
  },
  {
   "cell_type": "code",
   "execution_count": null,
   "metadata": {},
   "outputs": [],
   "source": [
    "duration = df['standard duration ']"
   ]
  },
  {
   "cell_type": "code",
   "execution_count": null,
   "metadata": {},
   "outputs": [],
   "source": [
    "df['standard duration '].to_csv('duration.csv', index=False)"
   ]
  },
  {
   "cell_type": "code",
   "execution_count": null,
   "metadata": {},
   "outputs": [],
   "source": [
    "import pandas as pd\n",
    "# Function to convert HH:MM:SS.mmm to total seconds\n",
    "def convert_to_seconds(time_str):\n",
    "    if pd.isna(time_str) or not str(time_str).strip(): \n",
    "        print(time_str)  # Check for NaN, None, or empty string\n",
    "        return 0  # Treat empty or NaN time as 0 seconds\n",
    "    \n",
    "    # Split the time string into hours, minutes, and seconds.milliseconds\n",
    "    h, m, s = str(time_str).split(':')\n",
    "    \n",
    "    # Further split the seconds part to separate seconds and milliseconds\n",
    "    s, ms = map(float, s.split('.')) if '.' in s else (int(s), 0.0)\n",
    "    \n",
    "    # Convert hours, minutes, and seconds to total seconds\n",
    "    return int(h) * 3600 + int(m) * 60 + s + ms / 1000"
   ]
  },
  {
   "cell_type": "code",
   "execution_count": null,
   "metadata": {},
   "outputs": [],
   "source": [
    "# Convert all time durations to seconds and sum them\n",
    "total_seconds = sum(convert_to_seconds(td) for td in duration)\n",
    "\n",
    "hours = int(total_seconds // 3600)\n",
    "minutes = int((total_seconds % 3600) // 60)\n",
    "seconds = total_seconds % 60\n",
    "\n",
    "# Format the result as HH:MM:SS\n",
    "total_duration_str = f\"{hours:02}:{minutes:02}:{seconds:02}\"\n",
    "\n",
    "print(f\"Total Duration: {total_duration_str}\")"
   ]
  },
  {
   "cell_type": "code",
   "execution_count": null,
   "metadata": {},
   "outputs": [],
   "source": [
    "df1 = df"
   ]
  },
  {
   "cell_type": "code",
   "execution_count": null,
   "metadata": {},
   "outputs": [],
   "source": [
    "df1.columns"
   ]
  },
  {
   "cell_type": "code",
   "execution_count": null,
   "metadata": {},
   "outputs": [],
   "source": [
    "df2 = pd.read_csv(\"dept_files/STT_CS.csv\")"
   ]
  },
  {
   "cell_type": "code",
   "execution_count": null,
   "metadata": {},
   "outputs": [],
   "source": [
    "df2.columns"
   ]
  },
  {
   "cell_type": "code",
   "execution_count": null,
   "metadata": {},
   "outputs": [],
   "source": [
    "df2.head()"
   ]
  },
  {
   "cell_type": "code",
   "execution_count": null,
   "metadata": {},
   "outputs": [],
   "source": [
    "merged_df = pd.merge(df1, df2, on='Audio File (Original)', how='left')"
   ]
  },
  {
   "cell_type": "code",
   "execution_count": null,
   "metadata": {},
   "outputs": [],
   "source": [
    "merged_df.head()"
   ]
  },
  {
   "cell_type": "code",
   "execution_count": null,
   "metadata": {},
   "outputs": [],
   "source": [
    "merged_df.columns"
   ]
  },
  {
   "cell_type": "code",
   "execution_count": null,
   "metadata": {},
   "outputs": [],
   "source": [
    "# Correct way to select specific columns\n",
    "split_df = merged_df[['Audio File (Original)', 'standard duration ', 'split duration', 'Added in Prodegy ']]"
   ]
  },
  {
   "cell_type": "code",
   "execution_count": null,
   "metadata": {},
   "outputs": [],
   "source": [
    "split_df.head()"
   ]
  },
  {
   "cell_type": "code",
   "execution_count": null,
   "metadata": {},
   "outputs": [],
   "source": [
    "split_df.to_csv(\"merged_data/STT_CS.csv\", index=False)"
   ]
  },
  {
   "cell_type": "code",
   "execution_count": null,
   "metadata": {},
   "outputs": [],
   "source": [
    "from datetime import datetime, timedelta    \n",
    "def subtract_durations(row):\n",
    "    if pd.isna(row['split duration']):\n",
    "        return ''\n",
    "    else:\n",
    "        # Convert to datetime objects1SjlnWsr6YVhBIW6EaS0ITmboDmEuj2VnxGRNL50OPx4\n",
    "        fmt = '%H:%M:%S.%f' if '.' in row['split duration'] else '%H:%M:%S'\n",
    "        \n",
    "        # Convert to datetime.time objects\n",
    "        standard_time = datetime.strptime(row['standard duration '], '%H:%M:%S').time()\n",
    "        split_time = datetime.strptime(row['split duration'], fmt).time()\n",
    "        \n",
    "        # Combine time with a base date to perform subtraction\n",
    "        base_date = datetime(2000, 1, 1)  # Arbitrary base date\n",
    "        standard_datetime = datetime.combine(base_date, standard_time)\n",
    "        split_datetime = datetime.combine(base_date, split_time)\n",
    "        \n",
    "        # Calculate remaining duration\n",
    "        remaining_time = standard_datetime - split_datetime\n",
    "        if remaining_time < timedelta(0):\n",
    "            print(f\"Negative time difference: {remaining_time}\", row['Audio File (Original)'])\n",
    "            # If negative, adjust by adding one day\n",
    "            remaining_time = timedelta(0)\n",
    "        \n",
    "        # Convert remaining time to hh:mm:ss format\n",
    "        remaining_hours, remainder = divmod(remaining_time.seconds, 3600)\n",
    "        remaining_minutes, remaining_seconds = divmod(remainder, 60)\n",
    "        \n",
    "        return f\"{remaining_hours:02}:{remaining_minutes:02}:{remaining_seconds:02}\"\n"
   ]
  },
  {
   "cell_type": "code",
   "execution_count": null,
   "metadata": {},
   "outputs": [],
   "source": [
    "split_df['remaining_duration'] = split_df.apply(subtract_durations, axis=1)\n"
   ]
  },
  {
   "cell_type": "code",
   "execution_count": null,
   "metadata": {},
   "outputs": [],
   "source": [
    "final_df = split_df[['Audio File (Original)', 'standard duration ', 'split duration',  'Added in Prodegy ']]\n"
   ]
  },
  {
   "cell_type": "code",
   "execution_count": null,
   "metadata": {},
   "outputs": [],
   "source": [
    "final_df.to_csv(\"merged_data/STT_CS.csv\", index=False)"
   ]
  },
  {
   "cell_type": "code",
   "execution_count": null,
   "metadata": {},
   "outputs": [],
   "source": [
    "split_duration = final_df['split duration']"
   ]
  },
  {
   "cell_type": "code",
   "execution_count": null,
   "metadata": {},
   "outputs": [],
   "source": [
    "#Convert all time durations to seconds and sum them\n",
    "total_seconds = sum(convert_to_seconds(td) for td in split_duration if td)\n",
    "\n",
    "# Convert the total seconds back to HH:MM:SS format\n",
    "hours = int(total_seconds // 3600)\n",
    "minutes = int((total_seconds % 3600) // 60)\n",
    "seconds = total_seconds % 60\n",
    "# Format the result as HH:MM:SS\n",
    "total_duration_str = f\"{hours:02}:{minutes:02}:{seconds:02}\"\n",
    "\n",
    "print(f\"Total split Duration: {total_duration_str}\")"
   ]
  },
  {
   "cell_type": "code",
   "execution_count": null,
   "metadata": {},
   "outputs": [],
   "source": [
    "loss_duration = final_df['remaining_duration']"
   ]
  },
  {
   "cell_type": "code",
   "execution_count": null,
   "metadata": {},
   "outputs": [],
   "source": [
    "#Convert all time durations to seconds and sum them\n",
    "total_seconds = sum(convert_to_seconds(td) for td in loss_duration if td)\n",
    "\n",
    "# Convert the total seconds back to HH:MM:SS format\n",
    "hours = int(total_seconds // 3600)\n",
    "minutes = int((total_seconds % 3600) // 60)\n",
    "seconds = total_seconds % 60\n",
    "# Format the result as HH:MM:SS\n",
    "total_duration_str = f\"{hours:02}:{minutes:02}:{seconds:02}\"\n",
    "\n",
    "print(f\"Total loss Duration: {total_duration_str}\")"
   ]
  },
  {
   "cell_type": "code",
   "execution_count": null,
   "metadata": {},
   "outputs": [],
   "source": [
    "total_uploaded_duration_seconds = sum(\n",
    "    convert_to_seconds(row['standard duration ']) \n",
    "    for _, row in final_df.iterrows() \n",
    "    if pd.notna(row['split duration']) and str(row['split duration']).strip()\n",
    ")\n",
    "\n",
    "# Convert total seconds back to HH:MM:SS format\n",
    "total_hours, remainder = divmod(total_uploaded_duration_seconds, 3600)\n",
    "total_minutes, total_seconds = divmod(remainder, 60)\n",
    "\n",
    "total_uploaded_duration = f\"{int(total_hours):02}:{int(total_minutes):02}:{int(total_seconds):02}\"\n",
    "\n",
    "print(\"Total Uploaded Duration:\", total_uploaded_duration)"
   ]
  },
  {
   "cell_type": "code",
   "execution_count": null,
   "metadata": {},
   "outputs": [],
   "source": [
    "# Calculate total uploaded duration for rows where 'Pecha Tools' is 'uploaded'\n",
    "total_uploaded_duration_seconds = sum(\n",
    "    convert_to_seconds(row['standard duration ']) \n",
    "    for _, row in final_df.iterrows() \n",
    "    if  row['Added in Prodegy '] == True\n",
    ")\n",
    "\n",
    "# Convert total seconds back to HH:MM:SS format\n",
    "total_hours, remainder = divmod(total_uploaded_duration_seconds, 3600)\n",
    "total_minutes, total_seconds = divmod(remainder, 60)\n",
    "\n",
    "total_uploaded_duration = f\"{int(total_hours):02}:{int(total_minutes):02}:{int(total_seconds):02}\"\n",
    "\n",
    "print(\"Total Uploaded Duration:\", total_uploaded_duration)"
   ]
  },
  {
   "cell_type": "code",
   "execution_count": null,
   "metadata": {},
   "outputs": [],
   "source": [
    "# Calculate total uploaded duration for rows where 'Pecha Tools' is 'uploaded'\n",
    "total_uploaded_duration_seconds = sum(\n",
    "    convert_to_seconds(row['split duration']) \n",
    "    for _, row in final_df.iterrows() \n",
    "    if  row['Added in Prodegy '] == True\n",
    ")\n",
    "\n",
    "# Convert total seconds back to HH:MM:SS format\n",
    "total_hours, remainder = divmod(total_uploaded_duration_seconds, 3600)\n",
    "total_minutes, total_seconds = divmod(remainder, 60)\n",
    "\n",
    "total_uploaded_duration = f\"{int(total_hours):02}:{int(total_minutes):02}:{int(total_seconds):02}\"\n",
    "\n",
    "print(\"Total split Duration:\", total_uploaded_duration)"
   ]
  },
  {
   "cell_type": "code",
   "execution_count": null,
   "metadata": {},
   "outputs": [],
   "source": [
    "all_split_df = pd.read_csv(\"dept_files/STT_CS.csv\")"
   ]
  },
  {
   "cell_type": "code",
   "execution_count": null,
   "metadata": {},
   "outputs": [],
   "source": [
    "total_uploaded_duration_seconds = sum(\n",
    "    convert_to_seconds(row['split duration']) \n",
    "    for _, row in all_split_df.iterrows() \n",
    ")\n",
    "\n",
    "# Convert total seconds back to HH:MM:SS format\n",
    "total_hours, remainder = divmod(total_uploaded_duration_seconds, 3600)\n",
    "total_minutes, total_seconds = divmod(remainder, 60)\n",
    "\n",
    "total_uploaded_duration = f\"{int(total_hours):02}:{int(total_minutes):02}:{int(total_seconds):02}\"\n",
    "\n",
    "print(\"Total after split Duration:\", total_uploaded_duration)"
   ]
  }
 ],
 "metadata": {
  "kernelspec": {
   "display_name": "Python 3",
   "language": "python",
   "name": "python3"
  },
  "language_info": {
   "codemirror_mode": {
    "name": "ipython",
    "version": 3
   },
   "file_extension": ".py",
   "mimetype": "text/x-python",
   "name": "python",
   "nbconvert_exporter": "python",
   "pygments_lexer": "ipython3",
   "version": "3.10.12"
  }
 },
 "nbformat": 4,
 "nbformat_minor": 2
}
