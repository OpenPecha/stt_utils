{
 "cells": [
  {
   "cell_type": "code",
   "execution_count": null,
   "metadata": {},
   "outputs": [],
   "source": [
    "! pip install python-dotenv\n",
    "! pip install pydub\n",
    "! pip install pandas\n",
    "! pip install psycopg2\n",
    "! pip install google-auth google-auth-httplib2 google-api-python-client google-auth-oauthlib\n",
    "! pip install tqdm\n",
    "! pip install pydub"
   ]
  },
  {
   "cell_type": "code",
   "execution_count": null,
   "metadata": {},
   "outputs": [],
   "source": [
    "import sys\n",
    "sys.path.append('../util')\n",
    "\n",
    "from util import read_spreadsheet\n",
    "from util import download_audio_gdrive\n"
   ]
  },
  {
   "cell_type": "code",
   "execution_count": null,
   "metadata": {},
   "outputs": [],
   "source": [
    "from pydub import AudioSegment\n",
    "import pandas as pd\n",
    "\n",
    "# Function to get audio duration from an audio file\n",
    "def get_audio_duration(audio_filename):\n",
    "    try:\n",
    "        audio = AudioSegment.from_file(audio_filename)\n",
    "        duration_in_sec = len(audio) // 1000  # Duration in seconds\n",
    "        duration = pd.to_datetime(duration_in_sec, unit='s').strftime('%H:%M:%S')  # Duration in H:M:S format\n",
    "        return duration\n",
    "    except Exception as e:\n",
    "        print(f\"Error fetching duration for {audio_filename}: {e}\")\n",
    "        return None\n"
   ]
  },
  {
   "cell_type": "code",
   "execution_count": null,
   "metadata": {},
   "outputs": [],
   "source": [
    "from_id = 305\n",
    "to_id = 319\n",
    "\n",
    "durations = []\n",
    "\n",
    "df = read_spreadsheet(sheet_id=\"107pF1LcHgbJtCGCdGwffqIyM70eImBmgPOjUuHQfZ7g\")\n",
    "for index, row in df.iterrows():\n",
    "    if not isinstance(row['Audio'], str) or not isinstance(row['STT_0000'], str):\n",
    "        break\n",
    "    id = row['STT_0000']\n",
    "    gd_url = row['Audio']\n",
    "    sr_no = row.iloc[0]\n",
    "    if sr_no >= from_id and sr_no <= to_id:\n",
    "        print(id, gd_url)\n",
    "        id = id + '.wav'\n",
    "        download_audio_gdrive(gd_url, id)\n",
    "        audio_filename = f\"full_audio/{id}\"\n",
    "        duration = get_audio_duration(audio_filename)\n",
    "        print(f\"Audio duration for {audio_filename}: {duration}\")\n",
    "        durations.append((id, duration))\n"
   ]
  },
  {
   "cell_type": "code",
   "execution_count": null,
   "metadata": {},
   "outputs": [],
   "source": [
    "# Convert list to DataFrame and save to CSV\n",
    "df_durations = pd.DataFrame(durations, columns=['File Name', 'Duration'])\n",
    "df_durations.to_csv('nw_gh_audio_durations.csv', index=False)\n",
    "\n",
    "print(\"Durations have been saved to audio_durations.csv\")"
   ]
  }
 ],
 "metadata": {
  "kernelspec": {
   "display_name": ".env",
   "language": "python",
   "name": "python3"
  },
  "language_info": {
   "codemirror_mode": {
    "name": "ipython",
    "version": 3
   },
   "file_extension": ".py",
   "mimetype": "text/x-python",
   "name": "python",
   "nbconvert_exporter": "python",
   "pygments_lexer": "ipython3",
   "version": "3.10.12"
  }
 },
 "nbformat": 4,
 "nbformat_minor": 2
}
