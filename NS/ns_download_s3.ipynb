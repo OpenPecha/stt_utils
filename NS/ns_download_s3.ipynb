{
 "cells": [
  {
   "cell_type": "code",
   "execution_count": null,
   "metadata": {},
   "outputs": [],
   "source": [
    "!pip install google-auth google-auth-httplib2 google-api-python-client google-auth-oauthlib transformers"
   ]
  },
  {
   "cell_type": "code",
   "execution_count": null,
   "metadata": {},
   "outputs": [],
   "source": [
    "!pip install psycopg2-binary\n",
    "!pip install python-dotenv\n",
    "!pip install tqdm \n",
    "!pip install pyannote.audio"
   ]
  },
  {
   "cell_type": "code",
   "execution_count": null,
   "metadata": {},
   "outputs": [],
   "source": [
    "import sys\n",
    "sys.path.append('../util')\n",
    "\n",
    "from util import read_spreadsheet\n",
    "from util import collect_segments\n",
    "from util import split_audio_files"
   ]
  },
  {
   "cell_type": "code",
   "execution_count": null,
   "metadata": {},
   "outputs": [],
   "source": [
    "from pydub import AudioSegment\n",
    "import pandas as pd\n",
    "\n",
    "# Function to get audio duration from an audio file\n",
    "def get_audio_duration(audio_filename):\n",
    "    try:\n",
    "        audio = AudioSegment.from_file(audio_filename)\n",
    "        duration_in_sec = len(audio) // 1000  # Duration in seconds\n",
    "        duration = pd.to_datetime(duration_in_sec, unit='s').strftime('%H:%M:%S')  # Duration in H:M:S format\n",
    "        return duration\n",
    "    except Exception as e:\n",
    "        print(f\"Error fetching duration for {audio_filename}: {e}\")\n",
    "        return None"
   ]
  },
  {
   "cell_type": "code",
   "execution_count": null,
   "metadata": {},
   "outputs": [],
   "source": [
    "import subprocess\n",
    "\n",
    "def download_s3_file(s3_path, local_filename):\n",
    "    \"\"\"\n",
    "    Downloads a file from S3 using AWS CLI.\n",
    "\n",
    "    Args:\n",
    "    - s3_path (str): S3 path of the file to download.\n",
    "    - local_filename (str): Local filename to save the downloaded file.\n",
    "\n",
    "    Returns:\n",
    "    - bool: True if download successful, False otherwise.\n",
    "    \"\"\"\n",
    "    try:\n",
    "        s3_bucket = \"monlam.ai.stt\"  # Replace with your S3 bucket name\n",
    "\n",
    "        # Run aws s3 cp command to download the file\n",
    "        download_command = f\"aws s3 cp s3://{s3_bucket}/{s3_path} {local_filename}\"\n",
    "        subprocess.run(download_command, shell=True, check=True)\n",
    "        print(f\"Downloaded {s3_path} to {local_filename}\")\n",
    "        return True\n",
    "    except subprocess.CalledProcessError as e:\n",
    "        print(f\"Error downloading {s3_path}: {e}\")\n",
    "        return False\n",
    "\n",
    "# Example usage:\n",
    "from_id = 305\n",
    "to_id = 319\n",
    "\n",
    "durations = []\n",
    "\n",
    "df = read_spreadsheet(sheet_id=\"1aShlQ9I2FS_PX_8Ukvc1nr8qOiMePdAzO-hs6-vWKko\")\n",
    "\n",
    "for index, row in df.iterrows():\n",
    "    if not isinstance(row['File Name'], str) or not isinstance(row['STT_NS_P0000'], str):\n",
    "        break\n",
    "    id = row['STT_NS_P0000']\n",
    "    s3_path = row['File Name']\n",
    "    sr_no = row.iloc[0]\n",
    "    if sr_no >= from_id and sr_no <= to_id:\n",
    "        local_filename = f\"audio_from_s3/{id}.mp3\"\n",
    "        download_s3_file(s3_path, local_filename)\n",
    "        audio_filename = f\"full_audio/{id}\"\n",
    "        duration = get_audio_duration(audio_filename)\n",
    "        print(f\"Audio duration for {audio_filename}: {duration}\")\n",
    "        durations.append((id, duration))\n",
    "\n"
   ]
  },
  {
   "cell_type": "code",
   "execution_count": null,
   "metadata": {},
   "outputs": [],
   "source": [
    "# Convert list to DataFrame and save to CSV\n",
    "df_durations = pd.DataFrame(durations, columns=['File Name', 'Duration'])\n",
    "df_durations.to_csv('nw_gh_audio_durations.csv', index=False)\n",
    "\n",
    "print(\"Durations have been saved to audio_durations.csv\")"
   ]
  }
 ],
 "metadata": {
  "kernelspec": {
   "display_name": ".env",
   "language": "python",
   "name": "python3"
  },
  "language_info": {
   "codemirror_mode": {
    "name": "ipython",
    "version": 3
   },
   "file_extension": ".py",
   "mimetype": "text/x-python",
   "name": "python",
   "nbconvert_exporter": "python",
   "pygments_lexer": "ipython3",
   "version": "3.10.12"
  }
 },
 "nbformat": 4,
 "nbformat_minor": 2
}
