{
 "cells": [
  {
   "cell_type": "code",
   "execution_count": null,
   "metadata": {},
   "outputs": [],
   "source": [
    "! pip install python-dotenv\n",
    "! pip install pydub\n",
    "! pip install pandas\n",
    "! pip install psycopg2\n",
    "! pip install google-auth google-auth-httplib2 google-api-python-client google-auth-oauthlib\n",
    "! pip install tqdm\n",
    "! pip install pytube\n"
   ]
  },
  {
   "cell_type": "code",
   "execution_count": 4,
   "metadata": {},
   "outputs": [],
   "source": [
    "import pandas as pd"
   ]
  },
  {
   "cell_type": "code",
   "execution_count": 12,
   "metadata": {},
   "outputs": [],
   "source": [
    "import sys\n",
    "\n",
    "sys.path.append('../util')\n",
    "\n",
    "from util import read_spreadsheet"
   ]
  },
  {
   "cell_type": "code",
   "execution_count": 13,
   "metadata": {},
   "outputs": [],
   "source": [
    "df = read_spreadsheet(sheet_id=\"1yKSzConuVWo8BuMDs2mabF5iiBKUz2wF--LIabFN6QE\")"
   ]
  },
  {
   "cell_type": "code",
   "execution_count": 14,
   "metadata": {},
   "outputs": [],
   "source": [
    "def convert_to_hms(duration):\n",
    "    try:\n",
    "        # Check if the duration is empty or not valid\n",
    "        if not duration or pd.isna(duration):\n",
    "            return None\n",
    "        \n",
    "        # Ensure the duration is a string\n",
    "        if isinstance(duration, float):\n",
    "            duration = f\"{duration:.2f}\"  # Convert float to string with two decimal places\n",
    "\n",
    "        # Split the duration into minutes and seconds\n",
    "        minutes, seconds = map(int, duration.split('.'))\n",
    "        \n",
    "        # Convert total time to seconds\n",
    "        total_seconds = minutes * 60 + seconds\n",
    "        \n",
    "        # Convert seconds to hours, minutes, and seconds\n",
    "        hours = total_seconds // 3600\n",
    "        total_seconds %= 3600\n",
    "        minutes = total_seconds // 60\n",
    "        seconds = total_seconds % 60\n",
    "        \n",
    "        # Format the result as hour:minute:second\n",
    "        return f\"{hours:02}:{minutes:02}:{seconds:02}\"\n",
    "    \n",
    "    except Exception as e:\n",
    "        # Print the exception for debugging purposes\n",
    "        print(f\"An error occurred: {e}\")\n",
    "        # Return None if any exception occurs\n",
    "        return None\n"
   ]
  },
  {
   "cell_type": "code",
   "execution_count": 15,
   "metadata": {},
   "outputs": [],
   "source": [
    "# Apply the function to the DataFrame\n",
    "df['standard duration'] = df['Duration'].apply(convert_to_hms)"
   ]
  },
  {
   "cell_type": "code",
   "execution_count": 16,
   "metadata": {},
   "outputs": [],
   "source": [
    "df['standard duration'].to_csv('ab_regex_standard_duration.csv', index=False)"
   ]
  },
  {
   "cell_type": "code",
   "execution_count": 17,
   "metadata": {},
   "outputs": [],
   "source": [
    "df.to_csv('ab_regex.csv', index=False)"
   ]
  },
  {
   "cell_type": "code",
   "execution_count": null,
   "metadata": {},
   "outputs": [],
   "source": []
  }
 ],
 "metadata": {
  "kernelspec": {
   "display_name": "Python 3",
   "language": "python",
   "name": "python3"
  },
  "language_info": {
   "codemirror_mode": {
    "name": "ipython",
    "version": 3
   },
   "file_extension": ".py",
   "mimetype": "text/x-python",
   "name": "python",
   "nbconvert_exporter": "python",
   "pygments_lexer": "ipython3",
   "version": "3.10.12"
  }
 },
 "nbformat": 4,
 "nbformat_minor": 2
}
