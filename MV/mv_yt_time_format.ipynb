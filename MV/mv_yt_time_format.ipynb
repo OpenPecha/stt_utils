{
 "cells": [
  {
   "cell_type": "code",
   "execution_count": null,
   "metadata": {},
   "outputs": [],
   "source": [
    "! pip install python-dotenv\n",
    "! pip install pydub\n",
    "! pip install pandas\n",
    "! pip install psycopg2\n",
    "! pip install google-auth google-auth-httplib2 google-api-python-client google-auth-oauthlib\n",
    "! pip install tqdm\n",
    "! pip install pytube\n"
   ]
  },
  {
   "cell_type": "code",
   "execution_count": 1,
   "metadata": {},
   "outputs": [],
   "source": [
    "import pandas as pd"
   ]
  },
  {
   "cell_type": "code",
   "execution_count": 2,
   "metadata": {},
   "outputs": [],
   "source": [
    "import sys\n",
    "\n",
    "sys.path.append('../util')\n",
    "\n",
    "from util import read_spreadsheet"
   ]
  },
  {
   "cell_type": "code",
   "execution_count": 3,
   "metadata": {},
   "outputs": [],
   "source": [
    "df = read_spreadsheet(sheet_id=\"1UOhU5Jcge89URmfagDf7Imm_QP74opOx6QsS2LaOSd0\")"
   ]
  },
  {
   "cell_type": "code",
   "execution_count": 5,
   "metadata": {},
   "outputs": [],
   "source": [
    "import pandas as pd\n",
    "from pytube import YouTube\n",
    "\n",
    "# Function to get video duration from a youtube video URL\n",
    "def get_video_duration(url):\n",
    "    try:\n",
    "        yt = YouTube(url)\n",
    "        duration = yt.length  # Duration in seconds\n",
    "        duration = pd.to_datetime(duration, unit='s').strftime('%H:%M:%S')  # Duration in\n",
    "        return duration\n",
    "    except Exception as e:\n",
    "        print(f\"Error fetching duration for {url}: {e}\")\n",
    "        return None\n"
   ]
  },
  {
   "cell_type": "code",
   "execution_count": 6,
   "metadata": {},
   "outputs": [
    {
     "name": "stdout",
     "output_type": "stream",
     "text": [
      "Error fetching duration for https://youtu.be/VVWlRM2Bsu8?si=88T1rB8o2NgHQijh: int() argument must be a string, a bytes-like object or a real number, not 'NoneType'\n",
      "Error fetching duration for nan: expected string or bytes-like object\n",
      "Error fetching duration for https://github.com/MonlamAI/tibetan-News-Audio/releases/download/News/Copy.of.ScreenRecording_01-22-2024.08-50-51_1.1.mov: int() argument must be a string, a bytes-like object or a real number, not 'NoneType'\n",
      "Error fetching duration for https://github.com/MonlamAI/tibetan-News-Audio/releases/download/News/RPReplay_Final1704957714.mov: int() argument must be a string, a bytes-like object or a real number, not 'NoneType'\n",
      "Error fetching duration for https://github.com/MonlamAI/tibetan-News-Audio/releases/download/News/RPReplay_Final1705116901.1.mov: int() argument must be a string, a bytes-like object or a real number, not 'NoneType'\n",
      "Error fetching duration for https://github.com/MonlamAI/tibetan-News-Audio/releases/download/News/RPReplay_Final1705320232.1.mov: int() argument must be a string, a bytes-like object or a real number, not 'NoneType'\n",
      "Error fetching duration for https://github.com/MonlamAI/tibetan-News-Audio/releases/download/News/RPReplay_Final1705321971.1.mov: int() argument must be a string, a bytes-like object or a real number, not 'NoneType'\n",
      "Error fetching duration for https://github.com/MonlamAI/tibetan-News-Audio/releases/download/News/RPReplay_Final1705376053.1.mov: int() argument must be a string, a bytes-like object or a real number, not 'NoneType'\n",
      "Error fetching duration for https://github.com/MonlamAI/tibetan-News-Audio/releases/download/News/RPReplay_Final1705377564.1.mov: int() argument must be a string, a bytes-like object or a real number, not 'NoneType'\n",
      "Error fetching duration for https://github.com/MonlamAI/tibetan-News-Audio/releases/download/News/RPReplay_Final1705406079.1.mov: int() argument must be a string, a bytes-like object or a real number, not 'NoneType'\n",
      "Error fetching duration for https://github.com/MonlamAI/tibetan-News-Audio/releases/download/News/RPReplay_Final1705548609.1.mov: int() argument must be a string, a bytes-like object or a real number, not 'NoneType'\n",
      "Error fetching duration for https://github.com/MonlamAI/tibetan-News-Audio/releases/download/News/RPReplay_Final1705634555.1.mov: int() argument must be a string, a bytes-like object or a real number, not 'NoneType'\n",
      "Error fetching duration for https://github.com/MonlamAI/tibetan-News-Audio/releases/download/News/RPReplay_Final1705635756.1.mov: int() argument must be a string, a bytes-like object or a real number, not 'NoneType'\n",
      "Error fetching duration for https://github.com/MonlamAI/tibetan-News-Audio/releases/download/News/RPReplay_Final1705719723.1.mov: int() argument must be a string, a bytes-like object or a real number, not 'NoneType'\n",
      "Error fetching duration for https://github.com/MonlamAI/tibetan-News-Audio/releases/download/News/RPReplay_Final1705721152.1.mov: int() argument must be a string, a bytes-like object or a real number, not 'NoneType'\n",
      "Error fetching duration for https://github.com/MonlamAI/tibetan-News-Audio/releases/download/News/RPReplay_Final1705737439.1.mov: int() argument must be a string, a bytes-like object or a real number, not 'NoneType'\n",
      "Error fetching duration for https://github.com/MonlamAI/tibetan-News-Audio/releases/download/News/ScreenRecording_01-22-2024.08-50-51_1.1.mov: int() argument must be a string, a bytes-like object or a real number, not 'NoneType'\n",
      "Error fetching duration for https://github.com/MonlamAI/tibetan-News-Audio/releases/download/News/16.MP4: int() argument must be a string, a bytes-like object or a real number, not 'NoneType'\n",
      "Error fetching duration for https://github.com/MonlamAI/tibetan-News-Audio/releases/download/News/17.MP4: int() argument must be a string, a bytes-like object or a real number, not 'NoneType'\n",
      "Error fetching duration for https://github.com/MonlamAI/tibetan-News-Audio/releases/download/News/18.MP4: int() argument must be a string, a bytes-like object or a real number, not 'NoneType'\n",
      "Error fetching duration for https://github.com/MonlamAI/tibetan-News-Audio/releases/download/News/19.MP4: int() argument must be a string, a bytes-like object or a real number, not 'NoneType'\n",
      "Error fetching duration for https://github.com/MonlamAI/tibetan-News-Audio/releases/download/News/20.MP4: int() argument must be a string, a bytes-like object or a real number, not 'NoneType'\n",
      "Error fetching duration for https://github.com/MonlamAI/tibetan-News-Audio/releases/download/News/21.MP4: int() argument must be a string, a bytes-like object or a real number, not 'NoneType'\n",
      "Error fetching duration for https://github.com/MonlamAI/tibetan-News-Audio/releases/download/News/22.MP4: int() argument must be a string, a bytes-like object or a real number, not 'NoneType'\n",
      "Error fetching duration for https://github.com/MonlamAI/tibetan-News-Audio/releases/download/News/23.MP4: int() argument must be a string, a bytes-like object or a real number, not 'NoneType'\n",
      "Error fetching duration for https://github.com/MonlamAI/tibetan-News-Audio/releases/download/News/24.MP4: int() argument must be a string, a bytes-like object or a real number, not 'NoneType'\n",
      "Error fetching duration for https://github.com/MonlamAI/tibetan-News-Audio/releases/download/News/25.MP4: int() argument must be a string, a bytes-like object or a real number, not 'NoneType'\n",
      "Error fetching duration for https://github.com/MonlamAI/tibetan-News-Audio/releases/download/News/26.MP4: int() argument must be a string, a bytes-like object or a real number, not 'NoneType'\n",
      "Error fetching duration for https://github.com/MonlamAI/tibetan-News-Audio/releases/download/News/27.MP4: int() argument must be a string, a bytes-like object or a real number, not 'NoneType'\n",
      "Error fetching duration for https://github.com/MonlamAI/tibetan-News-Audio/releases/download/News/28.MP4: int() argument must be a string, a bytes-like object or a real number, not 'NoneType'\n",
      "Error fetching duration for https://github.com/MonlamAI/tibetan-News-Audio/releases/download/News/29.MP4: int() argument must be a string, a bytes-like object or a real number, not 'NoneType'\n",
      "Error fetching duration for https://github.com/MonlamAI/tibetan-News-Audio/releases/download/News/30.MP4: int() argument must be a string, a bytes-like object or a real number, not 'NoneType'\n",
      "Error fetching duration for https://github.com/MonlamAI/tibetan-News-Audio/releases/download/News/31.MP4: int() argument must be a string, a bytes-like object or a real number, not 'NoneType'\n",
      "Error fetching duration for https://github.com/MonlamAI/tibetan-News-Audio/releases/download/News/32.MP4: int() argument must be a string, a bytes-like object or a real number, not 'NoneType'\n",
      "Error fetching duration for https://github.com/MonlamAI/tibetan-News-Audio/releases/download/News/33.MP4: int() argument must be a string, a bytes-like object or a real number, not 'NoneType'\n",
      "Error fetching duration for https://github.com/MonlamAI/tibetan-News-Audio/releases/download/News/34.MP4: int() argument must be a string, a bytes-like object or a real number, not 'NoneType'\n",
      "Error fetching duration for https://github.com/MonlamAI/tibetan-News-Audio/releases/download/News/35.MP4: int() argument must be a string, a bytes-like object or a real number, not 'NoneType'\n",
      "Error fetching duration for https://github.com/MonlamAI/tibetan-News-Audio/releases/download/News/36.MP4: int() argument must be a string, a bytes-like object or a real number, not 'NoneType'\n",
      "Error fetching duration for https://github.com/MonlamAI/tibetan-News-Audio/releases/download/News/37.MP4: int() argument must be a string, a bytes-like object or a real number, not 'NoneType'\n",
      "Error fetching duration for https://github.com/MonlamAI/tibetan-News-Audio/releases/download/News/38.MP4: int() argument must be a string, a bytes-like object or a real number, not 'NoneType'\n",
      "Error fetching duration for https://github.com/MonlamAI/tibetan-News-Audio/releases/download/News/39.MP4: int() argument must be a string, a bytes-like object or a real number, not 'NoneType'\n",
      "Error fetching duration for https://github.com/MonlamAI/tibetan-News-Audio/releases/download/News/40.mov: int() argument must be a string, a bytes-like object or a real number, not 'NoneType'\n",
      "Error fetching duration for སྤྱི་མཐུན་ཚོགས་པའི་རྒྱལ་ཡོངས་འཐུས་མིའི་ཚོགས་ཆེན། Trump at the Republican National Convention: regex_search: could not find match for (?:v=|\\/)([0-9A-Za-z_-]{11}).*\n",
      "Error fetching duration for རྒྱ་གར་དུ་ཨེ་ཤི་ཡའི་རྒྱུ་སྟོབས་ཆེ་ཤོས་ཀྱི་བུའི་ཆང་སའི་མཛད་སྒོ། India’s Ambani Wedding: regex_search: could not find match for (?:v=|\\/)([0-9A-Za-z_-]{11}).*\n",
      "Error fetching duration for nan: expected string or bytes-like object\n",
      "Error fetching duration for nan: expected string or bytes-like object\n",
      "Error fetching duration for nan: expected string or bytes-like object\n",
      "Error fetching duration for nan: expected string or bytes-like object\n",
      "Error fetching duration for nan: expected string or bytes-like object\n",
      "Error fetching duration for nan: expected string or bytes-like object\n",
      "Error fetching duration for nan: expected string or bytes-like object\n",
      "Error fetching duration for nan: expected string or bytes-like object\n",
      "Error fetching duration for nan: expected string or bytes-like object\n",
      "Error fetching duration for nan: expected string or bytes-like object\n"
     ]
    }
   ],
   "source": [
    "# Apply the function to the DataFrame\n",
    "df['standard duration'] = df['Source URL'].apply(get_video_duration)"
   ]
  },
  {
   "cell_type": "code",
   "execution_count": 7,
   "metadata": {},
   "outputs": [],
   "source": [
    "df['standard duration'].to_csv('mv_yt_standard_duration.csv', index=False)"
   ]
  },
  {
   "cell_type": "code",
   "execution_count": 8,
   "metadata": {},
   "outputs": [],
   "source": [
    "df.to_csv('mv_yt.csv', index=False)"
   ]
  },
  {
   "cell_type": "code",
   "execution_count": null,
   "metadata": {},
   "outputs": [],
   "source": []
  }
 ],
 "metadata": {
  "kernelspec": {
   "display_name": "Python 3",
   "language": "python",
   "name": "python3"
  },
  "language_info": {
   "codemirror_mode": {
    "name": "ipython",
    "version": 3
   },
   "file_extension": ".py",
   "mimetype": "text/x-python",
   "name": "python",
   "nbconvert_exporter": "python",
   "pygments_lexer": "ipython3",
   "version": "3.10.12"
  }
 },
 "nbformat": 4,
 "nbformat_minor": 2
}
