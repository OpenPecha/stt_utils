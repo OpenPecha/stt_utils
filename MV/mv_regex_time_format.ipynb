{
 "cells": [
  {
   "cell_type": "code",
   "execution_count": null,
   "metadata": {},
   "outputs": [],
   "source": [
    "! pip install python-dotenv\n",
    "! pip install pydub\n",
    "! pip install pandas\n",
    "! pip install psycopg2\n",
    "! pip install google-auth google-auth-httplib2 google-api-python-client google-auth-oauthlib\n",
    "! pip install tqdm\n",
    "! pip install pytube\n"
   ]
  },
  {
   "cell_type": "code",
   "execution_count": null,
   "metadata": {},
   "outputs": [],
   "source": [
    "import pandas as pd"
   ]
  },
  {
   "cell_type": "code",
   "execution_count": null,
   "metadata": {},
   "outputs": [],
   "source": [
    "import sys\n",
    "\n",
    "sys.path.append('../util')\n",
    "\n",
    "from util import read_spreadsheet"
   ]
  },
  {
   "cell_type": "code",
   "execution_count": null,
   "metadata": {},
   "outputs": [],
   "source": [
    "df = read_spreadsheet(sheet_id=\"1UOhU5Jcge89URmfagDf7Imm_QP74opOx6QsS2LaOSd0\")"
   ]
  },
  {
   "cell_type": "code",
   "execution_count": null,
   "metadata": {},
   "outputs": [],
   "source": [
    "df.columns"
   ]
  },
  {
   "cell_type": "code",
   "execution_count": null,
   "metadata": {},
   "outputs": [],
   "source": [
    "df['final_duration'] = df['standard duration'].where(\n",
    "    df['standard duration'].notna() & df['standard duration'].str.strip().astype(bool), \n",
    "    df['standard duration1']\n",
    ")"
   ]
  },
  {
   "cell_type": "code",
   "execution_count": null,
   "metadata": {},
   "outputs": [],
   "source": [
    "df['final_duration'].to_csv('standard_duration.csv', index=False)"
   ]
  },
  {
   "cell_type": "code",
   "execution_count": null,
   "metadata": {},
   "outputs": [],
   "source": [
    "def convert_to_hms(time_str):\n",
    "    try:\n",
    "        # Split the input time string into minutes, seconds, and milliseconds\n",
    "        minutes, seconds = map(int, time_str.split(':'))\n",
    "\n",
    "        # Convert total time to seconds\n",
    "        total_seconds = minutes * 60 + seconds \n",
    "\n",
    "        # Convert total seconds to hours, minutes, and seconds\n",
    "        hours = int(total_seconds // 3600)\n",
    "        minutes = int((total_seconds % 3600) // 60)\n",
    "        seconds = int(total_seconds % 60)\n",
    "\n",
    "        # Format the result as HH:MM:SS\n",
    "        return f\"{hours:02}:{minutes:02}:{seconds:02}\"\n",
    "    \n",
    "    except Exception as e:\n",
    "        # Return None if any exception occurs\n",
    "        return None"
   ]
  },
  {
   "cell_type": "code",
   "execution_count": null,
   "metadata": {},
   "outputs": [],
   "source": [
    "# Apply the function to the DataFrame\n",
    "df['standard duration'] = df['Duration'].apply(convert_to_hms)"
   ]
  },
  {
   "cell_type": "code",
   "execution_count": null,
   "metadata": {},
   "outputs": [],
   "source": [
    "df['standard duration'].to_csv('mv_regex_standard_duration.csv', index=False)"
   ]
  },
  {
   "cell_type": "code",
   "execution_count": null,
   "metadata": {},
   "outputs": [],
   "source": [
    "df.to_csv('mv_regex.csv', index=False)"
   ]
  },
  {
   "cell_type": "code",
   "execution_count": null,
   "metadata": {},
   "outputs": [],
   "source": []
  }
 ],
 "metadata": {
  "kernelspec": {
   "display_name": "Python 3",
   "language": "python",
   "name": "python3"
  },
  "language_info": {
   "codemirror_mode": {
    "name": "ipython",
    "version": 3
   },
   "file_extension": ".py",
   "mimetype": "text/x-python",
   "name": "python",
   "nbconvert_exporter": "python",
   "pygments_lexer": "ipython3",
   "version": "3.10.12"
  }
 },
 "nbformat": 4,
 "nbformat_minor": 2
}
