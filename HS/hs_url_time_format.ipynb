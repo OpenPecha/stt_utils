{
 "cells": [
  {
   "cell_type": "code",
   "execution_count": null,
   "metadata": {
    "tags": []
   },
   "outputs": [],
   "source": [
    "!pip install pyannote.audio"
   ]
  },
  {
   "cell_type": "code",
   "execution_count": null,
   "metadata": {
    "tags": []
   },
   "outputs": [],
   "source": [
    "!pip install torchvision"
   ]
  },
  {
   "cell_type": "code",
   "execution_count": null,
   "metadata": {
    "tags": []
   },
   "outputs": [],
   "source": [
    "! pip install python-dotenv\n",
    "! pip install pydub\n",
    "! pip install pandas\n",
    "! pip install psycopg2\n",
    "! pip install google-auth google-auth-httplib2 google-api-python-client google-auth-oauthlib"
   ]
  },
  {
   "cell_type": "code",
   "execution_count": null,
   "metadata": {
    "tags": []
   },
   "outputs": [],
   "source": [
    "import sys\n",
    "sys.path.append('../util')\n",
    "\n",
    "from util import read_spreadsheet\n",
    "from util import collect_segments\n",
    "from util import split_audio_files"
   ]
  },
  {
   "cell_type": "code",
   "execution_count": null,
   "metadata": {
    "tags": []
   },
   "outputs": [],
   "source": [
    "import requests\n",
    "import os\n",
    "import subprocess\n",
    "\n",
    "def download_url_file(url, local_filename):\n",
    "    response = requests.get(url, stream=True)\n",
    "    if response.status_code == 200:\n",
    "        with open(local_filename.strip(), 'wb') as f:\n",
    "            for chunk in response.iter_content(chunk_size=8192):\n",
    "                f.write(chunk)\n",
    "        print(f\"Downloaded {local_filename.strip()}\")\n",
    "    else:\n",
    "        print(f\"Failed to download {local_filename.strip()} from {url}. Status code: {response.status_code}\")\n"
   ]
  },
  {
   "cell_type": "code",
   "execution_count": null,
   "metadata": {},
   "outputs": [],
   "source": [
    "from pydub import AudioSegment\n",
    "import pandas as pd\n",
    "\n",
    "# Function to get audio duration from an audio file\n",
    "def get_audio_duration(audio_filename):\n",
    "    try:\n",
    "        audio = AudioSegment.from_file(audio_filename)\n",
    "        duration_in_sec = len(audio) // 1000  # Duration in seconds\n",
    "        duration = pd.to_datetime(duration_in_sec, unit='s').strftime('%H:%M:%S')  # Duration in H:M:S format\n",
    "        return duration\n",
    "    except Exception as e:\n",
    "        print(f\"Error fetching duration for {audio_filename}: {e}\")\n",
    "        return None\n"
   ]
  },
  {
   "cell_type": "code",
   "execution_count": null,
   "metadata": {
    "tags": []
   },
   "outputs": [],
   "source": [
    "# Ensure directories exist\n",
    "os.makedirs('audio_from_url', exist_ok=True)\n",
    "\n",
    "# Example usage:\n",
    "from_id = 163 \n",
    "to_id = 201\n",
    "\n",
    "durations = []\n",
    "\n",
    "df = read_spreadsheet(sheet_id=\"1SjlnWsr6YVhBIW6EaS0ITmboDmEuj2VnxGRNL50OPx4\")\n",
    "\n",
    "for index, row in df.iterrows():\n",
    "    if not isinstance(row['ID'], str) or not isinstance(row['YouTube link'], str):\n",
    "        break\n",
    "    id = row['ID']\n",
    "    url_path = row['YouTube link']\n",
    "    audio_filename = f\"audio_from_url/{id}.mp3\".strip()\n",
    "    sr_no = row.iloc[0]\n",
    "    if sr_no >= from_id and sr_no <= to_id:\n",
    "        if os.path.exists(audio_filename):\n",
    "            print(f\"Audio file {audio_filename} already exists. Skipping extraction.\")\n",
    "            continue\n",
    "        if not os.path.exists(audio_filename):\n",
    "            download_url_file(url_path, audio_filename)\n",
    "        duration = get_audio_duration(audio_filename)\n",
    "        print(f\"Audio duration for {audio_filename}: {duration}\")\n",
    "        durations.append((id, duration))\n",
    "\n"
   ]
  },
  {
   "cell_type": "code",
   "execution_count": null,
   "metadata": {},
   "outputs": [],
   "source": [
    "# Convert list to DataFrame and save to CSV\n",
    "df_durations = pd.DataFrame(durations, columns=['File Name', 'Duration'])\n",
    "df_durations.to_csv('nw_gh_audio_durations.csv', index=False)\n",
    "\n",
    "print(\"Durations have been saved to audio_durations.csv\")"
   ]
  }
 ],
 "metadata": {
  "kernelspec": {
   "display_name": "conda_tensorflow2_p310",
   "language": "python",
   "name": "conda_tensorflow2_p310"
  },
  "language_info": {
   "codemirror_mode": {
    "name": "ipython",
    "version": 3
   },
   "file_extension": ".py",
   "mimetype": "text/x-python",
   "name": "python",
   "nbconvert_exporter": "python",
   "pygments_lexer": "ipython3",
   "version": "3.10.14"
  }
 },
 "nbformat": 4,
 "nbformat_minor": 4
}
