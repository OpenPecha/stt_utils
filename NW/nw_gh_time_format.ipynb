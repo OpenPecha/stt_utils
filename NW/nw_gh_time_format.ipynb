{
 "cells": [
  {
   "cell_type": "code",
   "execution_count": null,
   "metadata": {},
   "outputs": [],
   "source": [
    "! pip install python-dotenv\n",
    "! pip install pydub\n",
    "! pip install pandas\n",
    "! pip install psycopg2\n",
    "! pip install google-auth google-auth-httplib2 google-api-python-client google-auth-oauthlib\n",
    "! pip install tqdm"
   ]
  },
  {
   "cell_type": "code",
   "execution_count": null,
   "metadata": {},
   "outputs": [],
   "source": [
    "import pandas as pd\n",
    "from pydub import AudioSegment"
   ]
  },
  {
   "cell_type": "code",
   "execution_count": null,
   "metadata": {},
   "outputs": [],
   "source": [
    "import sys\n",
    "\n",
    "sys.path.append('../util')\n",
    "\n",
    "from util import read_spreadsheet"
   ]
  },
  {
   "cell_type": "code",
   "execution_count": null,
   "metadata": {},
   "outputs": [],
   "source": [
    "df = read_spreadsheet(sheet_id=\"1f5KlXPou3UtmRCCEVgwgoJms5WkRiAqb\")"
   ]
  },
  {
   "cell_type": "code",
   "execution_count": null,
   "metadata": {},
   "outputs": [],
   "source": [
    "import requests\n",
    "import os\n",
    "import subprocess\n",
    "\n",
    "def download_gh_file(url, local_filename):\n",
    "    response = requests.get(url, stream=True)\n",
    "    if response.status_code == 200:\n",
    "        with open(local_filename.strip(), 'wb') as f:\n",
    "            for chunk in response.iter_content(chunk_size=8192):\n",
    "                f.write(chunk)\n",
    "        print(f\"Downloaded {local_filename.strip()}\")\n",
    "    else:\n",
    "        print(f\"Failed to download {local_filename.strip()} from {url}. Status code: {response.status_code}\")\n"
   ]
  },
  {
   "cell_type": "code",
   "execution_count": null,
   "metadata": {},
   "outputs": [],
   "source": [
    "def extract_audio(video_file, audio_file):\n",
    "    command = [\n",
    "        \"ffmpeg\",\n",
    "        \"-i\", video_file,\n",
    "        \"-q:a\", \"0\",\n",
    "        \"-map\", \"a\",\n",
    "        audio_file\n",
    "    ]\n",
    "    try:\n",
    "        subprocess.run(command, check=True)\n",
    "        print(f\"Extracted audio to {audio_file}\")\n",
    "    except subprocess.CalledProcessError as e:\n",
    "        print(f\"Failed to extract audio from {video_file}. Error: {e}\")\n"
   ]
  },
  {
   "cell_type": "code",
   "execution_count": null,
   "metadata": {},
   "outputs": [],
   "source": [
    "from pydub import AudioSegment\n",
    "import pandas as pd\n",
    "\n",
    "# Function to get audio duration from an audio file\n",
    "def get_audio_duration(audio_filename):\n",
    "    try:\n",
    "        audio = AudioSegment.from_file(audio_filename)\n",
    "        duration_in_sec = len(audio) // 1000  # Duration in seconds\n",
    "        duration = pd.to_datetime(duration_in_sec, unit='s').strftime('%H:%M:%S')  # Duration in H:M:S format\n",
    "        return duration\n",
    "    except Exception as e:\n",
    "        print(f\"Error fetching duration for {audio_filename}: {e}\")\n",
    "        return None\n"
   ]
  },
  {
   "cell_type": "code",
   "execution_count": null,
   "metadata": {},
   "outputs": [],
   "source": [
    "# Ensure directories exist\n",
    "os.makedirs('video_from_gh', exist_ok=True)\n",
    "os.makedirs('audio_from_gh', exist_ok=True)\n",
    "\n",
    "# Example usage:\n",
    "from_id = 214 \n",
    "to_id = 253\n",
    "\n",
    "df = read_spreadsheet(sheet_id=\"1g6RVrHXygLzg4d2IduliUpg8fzvJzqYcbddS02nvyv8\")\n",
    "\n",
    "durations = []\n",
    "\n",
    "for index, row in df.iterrows():\n",
    "    if not isinstance(row['File Name'], str) or not isinstance(row['asset_url'], str):\n",
    "        break\n",
    "    id = row['File Name']\n",
    "    url_path = row['asset_url']\n",
    "    video_filename = f\"video_from_gh/{id}.MP4\".strip()\n",
    "    audio_filename = f\"audio_from_gh/{id}.wav\".strip()\n",
    "    sr_no = row.iloc[0]\n",
    "    if sr_no >= from_id and sr_no <= to_id:\n",
    "        if os.path.exists(audio_filename):\n",
    "            print(f\"Audio file {audio_filename} already exists. Skipping extraction.\")\n",
    "            continue\n",
    "        if not os.path.exists(video_filename):\n",
    "            download_gh_file(url_path, video_filename)\n",
    "        extract_audio(video_filename, audio_filename)\n",
    "        duration = get_audio_duration(audio_filename)\n",
    "        print(f\"Audio duration for {audio_filename}: {duration}\")\n",
    "        durations.append((id, duration))\n"
   ]
  },
  {
   "cell_type": "code",
   "execution_count": null,
   "metadata": {},
   "outputs": [],
   "source": [
    "# Convert list to DataFrame and save to CSV\n",
    "df_durations = pd.DataFrame(durations, columns=['File Name', 'Duration'])\n",
    "df_durations.to_csv('nw_gh_audio_durations.csv', index=False)\n",
    "\n",
    "print(\"Durations have been saved to audio_durations.csv\")"
   ]
  }
 ],
 "metadata": {
  "language_info": {
   "name": "python"
  }
 },
 "nbformat": 4,
 "nbformat_minor": 2
}
