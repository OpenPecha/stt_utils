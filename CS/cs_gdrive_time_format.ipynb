{
 "cells": [
  {
   "cell_type": "code",
   "execution_count": null,
   "metadata": {},
   "outputs": [],
   "source": [
    "! pip install python-dotenv\n",
    "! pip install pydub\n",
    "! pip install pandas\n",
    "! pip install psycopg2\n",
    "! pip install google-auth google-auth-httplib2 google-api-python-client google-auth-oauthlib\n",
    "! pip install tqdm\n",
    "! pip install pydub"
   ]
  },
  {
   "cell_type": "code",
   "execution_count": null,
   "metadata": {},
   "outputs": [],
   "source": [
    "import sys\n",
    "sys.path.append('../util')\n",
    "\n",
    "from util import read_spreadsheet\n",
    "from util import download_audio_gdrive\n"
   ]
  },
  {
   "cell_type": "code",
   "execution_count": null,
   "metadata": {},
   "outputs": [],
   "source": [
    "from pydub import AudioSegment\n",
    "import pandas as pd\n",
    "\n",
    "# Function to get audio duration from an audio file\n",
    "def get_audio_duration(audio_filename):\n",
    "    try:\n",
    "        audio = AudioSegment.from_file(audio_filename)\n",
    "        duration_in_sec = len(audio) // 1000  # Duration in seconds\n",
    "        duration = pd.to_datetime(duration_in_sec, unit='s').strftime('%H:%M:%S')  # Duration in H:M:S format\n",
    "        return duration\n",
    "    except Exception as e:\n",
    "        print(f\"Error fetching duration for {audio_filename}: {e}\")\n",
    "        return None\n"
   ]
  },
  {
   "cell_type": "code",
   "execution_count": null,
   "metadata": {},
   "outputs": [],
   "source": [
    "FROM_SR_NO = 1711\n",
    "TO_SR_NO   = 1729\n",
    "\n",
    "durations = []\n",
    "\n",
    "df = read_spreadsheet(sheet_id=\"1SjlnWsr6YVhBIW6EaS0ITmboDmEuj2VnxGRNL50OPx4\")\n",
    "\n",
    "for index, row in df.iterrows():\n",
    "    file_name = row['ID Metadata Form']\n",
    "    gd_url = row['Audio link text']\n",
    "    Sr_no = row['S. no.']\n",
    "    \n",
    "    if Sr_no >= FROM_SR_NO and Sr_no <= TO_SR_NO:\n",
    "        print(file_name, gd_url, Sr_no)\n",
    "        file_name = file_name.replace(\"/\", \"_\") + '.mp3'\n",
    "        download_audio_gdrive(gd_url, file_name)\n",
    "        audio_filename = f\"full_audio/{id}\"\n",
    "        duration = get_audio_duration(audio_filename)\n",
    "        print(f\"Audio duration for {audio_filename}: {duration}\")\n",
    "        durations.append((id, duration))\n"
   ]
  },
  {
   "cell_type": "code",
   "execution_count": null,
   "metadata": {},
   "outputs": [],
   "source": [
    "# Convert list to DataFrame and save to CSV\n",
    "df_durations = pd.DataFrame(durations, columns=['File Name', 'Duration'])\n",
    "df_durations.to_csv('nw_gh_audio_durations.csv', index=False)\n",
    "\n",
    "print(\"Durations have been saved to audio_durations.csv\")"
   ]
  }
 ],
 "metadata": {
  "kernelspec": {
   "display_name": ".env",
   "language": "python",
   "name": "python3"
  },
  "language_info": {
   "codemirror_mode": {
    "name": "ipython",
    "version": 3
   },
   "file_extension": ".py",
   "mimetype": "text/x-python",
   "name": "python",
   "nbconvert_exporter": "python",
   "pygments_lexer": "ipython3",
   "version": "3.10.12"
  }
 },
 "nbformat": 4,
 "nbformat_minor": 2
}
