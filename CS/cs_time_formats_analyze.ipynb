{
 "cells": [
  {
   "cell_type": "code",
   "execution_count": 7,
   "metadata": {},
   "outputs": [],
   "source": [
    "import pandas as pd"
   ]
  },
  {
   "cell_type": "code",
   "execution_count": 2,
   "metadata": {},
   "outputs": [],
   "source": [
    "import sys\n",
    "sys.path.append('../util')\n",
    "\n",
    "from util import read_spreadsheet"
   ]
  },
  {
   "cell_type": "code",
   "execution_count": 3,
   "metadata": {},
   "outputs": [],
   "source": [
    "df = read_spreadsheet(sheet_id=\"1-WuaaWKIHJfGQhDXVSwG-v2qGqxQYVqqk7lFeHyxEzk\")\n"
   ]
  },
  {
   "cell_type": "code",
   "execution_count": 13,
   "metadata": {},
   "outputs": [],
   "source": [
    "df = pd.read_csv('original_duration.csv')"
   ]
  },
  {
   "cell_type": "code",
   "execution_count": 14,
   "metadata": {},
   "outputs": [],
   "source": [
    "df['time'] = df['Original Duration']"
   ]
  },
  {
   "cell_type": "code",
   "execution_count": 15,
   "metadata": {},
   "outputs": [],
   "source": [
    "# Convert to datetime, forcing errors to NaT (Not a Time)\n",
    "df['time'] = pd.to_datetime(df['time'], format='%H:%M:%S', errors='coerce')\n"
   ]
  },
  {
   "cell_type": "code",
   "execution_count": 16,
   "metadata": {},
   "outputs": [],
   "source": [
    "# Identify rows where time conversion failed (invalid format)\n",
    "df['is_valid_format'] = df['time'].notna()\n",
    "\n",
    "# Identify rows where hours are greater than 00\n",
    "df['hours_greater_than_zero'] = df['time'].apply(lambda x: x.hour > 0 if pd.notna(x) else False)\n"
   ]
  },
  {
   "cell_type": "code",
   "execution_count": 17,
   "metadata": {},
   "outputs": [],
   "source": [
    "# Filter rows where format is invalid or hours are greater than 00\n",
    "filtered_df = df[~df['is_valid_format'] | df['hours_greater_than_zero']]\n"
   ]
  },
  {
   "cell_type": "code",
   "execution_count": 19,
   "metadata": {},
   "outputs": [
    {
     "name": "stdout",
     "output_type": "stream",
     "text": [
      "     Original Duration                time  is_valid_format  \\\n",
      "182           00:16.40                 NaT            False   \n",
      "198           01:02:49 1900-01-01 01:02:49             True   \n",
      "234           01:16:06 1900-01-01 01:16:06             True   \n",
      "252           01:07:49 1900-01-01 01:07:49             True   \n",
      "253           01:09:05 1900-01-01 01:09:05             True   \n",
      "290           01:00:10 1900-01-01 01:00:10             True   \n",
      "313           01:31:05 1900-01-01 01:31:05             True   \n",
      "484           01:56:35 1900-01-01 01:56:35             True   \n",
      "485           01:10:43 1900-01-01 01:10:43             True   \n",
      "486           01:11:55 1900-01-01 01:11:55             True   \n",
      "512           01:53:49 1900-01-01 01:53:49             True   \n",
      "528           01:29:03 1900-01-01 01:29:03             True   \n",
      "548           01:01:07 1900-01-01 01:01:07             True   \n",
      "569           01:29:56 1900-01-01 01:29:56             True   \n",
      "570           01:26:26 1900-01-01 01:26:26             True   \n",
      "616           01:16:12 1900-01-01 01:16:12             True   \n",
      "675           00:26.39                 NaT            False   \n",
      "697           01:03:51 1900-01-01 01:03:51             True   \n",
      "740           01:05:50 1900-01-01 01:05:50             True   \n",
      "765           01:03:17 1900-01-01 01:03:17             True   \n",
      "767           01:02:07 1900-01-01 01:02:07             True   \n",
      "859           01:14:54 1900-01-01 01:14:54             True   \n",
      "881           00:06;10                 NaT            False   \n",
      "951           O1:15:23                 NaT            False   \n",
      "956           00.21.47                 NaT            False   \n",
      "974           00:10;53                 NaT            False   \n",
      "1103          01:21:35 1900-01-01 01:21:35             True   \n",
      "1130          00;17:06                 NaT            False   \n",
      "1139             10:53                 NaT            False   \n",
      "1237          01:00:09 1900-01-01 01:00:09             True   \n",
      "1262          01:21:00 1900-01-01 01:21:00             True   \n",
      "1266          01:20:51 1900-01-01 01:20:51             True   \n",
      "1342          00:05;32                 NaT            False   \n",
      "1553          01:00:23 1900-01-01 01:00:23             True   \n",
      "1554          01:00:25 1900-01-01 01:00:25             True   \n",
      "1580          01:22:43 1900-01-01 01:22:43             True   \n",
      "1585          01:23:28 1900-01-01 01:23:28             True   \n",
      "1602             00:15                 NaT            False   \n",
      "1612          00:07;33                 NaT            False   \n",
      "1709          01:26:43 1900-01-01 01:26:43             True   \n",
      "\n",
      "      hours_greater_than_zero  \n",
      "182                     False  \n",
      "198                      True  \n",
      "234                      True  \n",
      "252                      True  \n",
      "253                      True  \n",
      "290                      True  \n",
      "313                      True  \n",
      "484                      True  \n",
      "485                      True  \n",
      "486                      True  \n",
      "512                      True  \n",
      "528                      True  \n",
      "548                      True  \n",
      "569                      True  \n",
      "570                      True  \n",
      "616                      True  \n",
      "675                     False  \n",
      "697                      True  \n",
      "740                      True  \n",
      "765                      True  \n",
      "767                      True  \n",
      "859                      True  \n",
      "881                     False  \n",
      "951                     False  \n",
      "956                     False  \n",
      "974                     False  \n",
      "1103                     True  \n",
      "1130                    False  \n",
      "1139                    False  \n",
      "1237                     True  \n",
      "1262                     True  \n",
      "1266                     True  \n",
      "1342                    False  \n",
      "1553                     True  \n",
      "1554                     True  \n",
      "1580                     True  \n",
      "1585                     True  \n",
      "1602                    False  \n",
      "1612                    False  \n",
      "1709                     True  \n"
     ]
    }
   ],
   "source": [
    "print(filtered_df)\n",
    "filtered_df.to_csv('filtered_duration.csv', index=False)\n"
   ]
  },
  {
   "cell_type": "code",
   "execution_count": 10,
   "metadata": {},
   "outputs": [],
   "source": [
    "\n",
    "import pandas as pd\n",
    "# Function to convert HH:MM:SS to total seconds\n",
    "def convert_to_seconds(time_str):\n",
    "    if pd.isna(time_str) or not str(time_str).strip(): \n",
    "        print(time_str) # Check for NaN, None, or empty string\n",
    "        return 0  # Treat empty or NaN time as 0 seconds\n",
    "    h, m, s = map(int, str(time_str).split(':'))  # Ensure time_str is a string before splitting\n",
    "    return h * 3600 + m * 60 + s"
   ]
  },
  {
   "cell_type": "code",
   "execution_count": 11,
   "metadata": {},
   "outputs": [
    {
     "name": "stdout",
     "output_type": "stream",
     "text": [
      "nan\n",
      "nan\n",
      "nan\n",
      "Total Duration: 174:37:21\n"
     ]
    }
   ],
   "source": [
    "# Convert all time durations to seconds and sum them\n",
    "total_seconds = sum(convert_to_seconds(td) for td in duration)\n",
    "\n",
    "# Convert the total seconds back to HH:MM:SS format\n",
    "hours = total_seconds // 3600\n",
    "minutes = (total_seconds % 3600) // 60\n",
    "seconds = total_seconds % 60\n",
    "\n",
    "# Format the result as HH:MM:SS\n",
    "total_duration_str = f\"{hours:02}:{minutes:02}:{seconds:02}\"\n",
    "\n",
    "print(f\"Total Duration: {total_duration_str}\")"
   ]
  },
  {
   "cell_type": "code",
   "execution_count": null,
   "metadata": {},
   "outputs": [],
   "source": []
  },
  {
   "cell_type": "code",
   "execution_count": null,
   "metadata": {},
   "outputs": [],
   "source": []
  }
 ],
 "metadata": {
  "kernelspec": {
   "display_name": "Python 3",
   "language": "python",
   "name": "python3"
  },
  "language_info": {
   "codemirror_mode": {
    "name": "ipython",
    "version": 3
   },
   "file_extension": ".py",
   "mimetype": "text/x-python",
   "name": "python",
   "nbconvert_exporter": "python",
   "pygments_lexer": "ipython3",
   "version": "3.10.12"
  }
 },
 "nbformat": 4,
 "nbformat_minor": 2
}
